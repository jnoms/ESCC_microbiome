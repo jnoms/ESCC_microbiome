{
  "nbformat": 4,
  "nbformat_minor": 0,
  "metadata": {
    "colab": {
      "name": "Figure3.ipynb",
      "provenance": [],
      "collapsed_sections": [
        "spnVS1_4x2pY",
        "XkVfBBbdx_6r",
        "9zW3IbrkEE8q"
      ],
      "toc_visible": true,
      "authorship_tag": "ABX9TyOqaftdV2UddPBCSEHHERR0",
      "include_colab_link": true
    },
    "kernelspec": {
      "name": "python3",
      "display_name": "Python 3"
    },
    "language_info": {
      "name": "python"
    }
  },
  "cells": [
    {
      "cell_type": "markdown",
      "metadata": {
        "id": "view-in-github",
        "colab_type": "text"
      },
      "source": [
        "<a href=\"https://colab.research.google.com/github/jnoms/ESCC_microbiome/blob/main/collab/Figure3.ipynb\" target=\"_parent\"><img src=\"https://colab.research.google.com/assets/colab-badge.svg\" alt=\"Open In Colab\"/></a>"
      ]
    },
    {
      "cell_type": "markdown",
      "metadata": {
        "id": "spnVS1_4x2pY"
      },
      "source": [
        "# Downloading data"
      ]
    },
    {
      "cell_type": "code",
      "metadata": {
        "id": "fTzgreTSx_O-",
        "colab": {
          "base_uri": "https://localhost:8080/"
        },
        "outputId": "8ecad4a6-2d74-4802-be6f-6519e1b24247"
      },
      "source": [
        "# Data\n",
        "! wget https://zenodo.org/record/4750577/files/2021-05-11_ESCC_MICROBIOME_UPLOAD.zip?download=1\n",
        "! mv  2021-05-11_ESCC_MICROBIOME_UPLOAD.zip?download=1 package.zip\n",
        "! unzip package.zip\n",
        "! mv 2021-05-11_ESCC_MICROBIOME_UPLOAD/data data\n",
        "! mv 2021-05-11_ESCC_MICROBIOME_UPLOAD/functions.r functions.r"
      ],
      "execution_count": 48,
      "outputs": [
        {
          "output_type": "stream",
          "text": [
            "--2021-05-12 19:43:15--  https://zenodo.org/record/4750577/files/2021-05-11_ESCC_MICROBIOME_UPLOAD.zip?download=1\n",
            "Resolving zenodo.org (zenodo.org)... 137.138.76.77\n",
            "Connecting to zenodo.org (zenodo.org)|137.138.76.77|:443... connected.\n",
            "HTTP request sent, awaiting response... 200 OK\n",
            "Length: 104334449 (100M) [application/octet-stream]\n",
            "Saving to: ‘2021-05-11_ESCC_MICROBIOME_UPLOAD.zip?download=1’\n",
            "\n",
            "2021-05-11_ESCC_MIC 100%[===================>]  99.50M  24.9MB/s    in 4.5s    \n",
            "\n",
            "2021-05-12 19:43:21 (21.9 MB/s) - ‘2021-05-11_ESCC_MICROBIOME_UPLOAD.zip?download=1’ saved [104334449/104334449]\n",
            "\n",
            "Archive:  package.zip\n",
            "replace 2021-05-11_ESCC_MICROBIOME_UPLOAD/Fig_3_Tumor_oral_comparison.Rmd? [y]es, [n]o, [A]ll, [N]one, [r]ename: mv: cannot stat '2021-05-11_ESCC_MICROBIOME_UPLOAD/data': No such file or directory\n",
            "mv: cannot stat '2021-05-11_ESCC_MICROBIOME_UPLOAD/functions.r': No such file or directory\n"
          ],
          "name": "stdout"
        }
      ]
    },
    {
      "cell_type": "markdown",
      "metadata": {
        "id": "XkVfBBbdx_6r"
      },
      "source": [
        "# Setting up environment and loading R packages"
      ]
    },
    {
      "cell_type": "code",
      "metadata": {
        "id": "rX5eD6M1wM3G",
        "colab": {
          "base_uri": "https://localhost:8080/"
        },
        "outputId": "dbc20f31-55dd-4ae1-ad72-f9546f648295"
      },
      "source": [
        "%load_ext rpy2.ipython"
      ],
      "execution_count": 49,
      "outputs": [
        {
          "output_type": "stream",
          "text": [
            "The rpy2.ipython extension is already loaded. To reload it, use:\n",
            "  %reload_ext rpy2.ipython\n"
          ],
          "name": "stdout"
        }
      ]
    },
    {
      "cell_type": "code",
      "metadata": {
        "id": "cuKBi1jWyZym"
      },
      "source": [
        "%%R\n",
        "install.packages(\"pheatmap\")\n",
        "install.packages(\"reshape2\")\n",
        "install.packages(\"hash\")\n",
        "install.packages(\"patchwork\")\n",
        "install.packages(\"vegan\")\n",
        "install.packages(\"ggplotify\")\n",
        "install.packages(\"ggforce\")\n",
        "install.packages(\"ggridges\")"
      ],
      "execution_count": null,
      "outputs": []
    },
    {
      "cell_type": "code",
      "metadata": {
        "id": "ZS6BmjC8wWz8"
      },
      "source": [
        "%%R\n",
        "library(tidyverse)\n",
        "library(pheatmap)\n",
        "library(reshape2)\n",
        "library(svglite)\n",
        "library(hash)\n",
        "library(patchwork)\n",
        "library(magrittr)\n",
        "\n",
        "\n",
        "# Bray curtis\n",
        "library(vegan)\n",
        "\n",
        "# Plotting \n",
        "library(scales) #allows use of \"comma\" to replace i.e. 1e6 with 1,000,000 during plotting\n",
        "\n",
        "\n",
        "# My functions\n",
        "source(\"functions.r\")\n",
        "\n",
        "library(RColorBrewer) #for specifying pheatmap colorscheme\n",
        "\n",
        "library(ggplotify) # Convert pheatmaps to ggplot objects using as.ggplot\n",
        "\n",
        "library(ggforce) # trans_reverser() function for reverse but log10 scale_y_continuous trans value\n",
        "\n",
        "library(ggridges) #ridge plots\n",
        "\n",
        "\n",
        "select <- dplyr::select # for some reason, select is preemted... so put it back to the tidyverse select."
      ],
      "execution_count": 51,
      "outputs": []
    },
    {
      "cell_type": "markdown",
      "metadata": {
        "id": "9zW3IbrkEE8q"
      },
      "source": [
        "# Constants and load/format data in R"
      ]
    },
    {
      "cell_type": "code",
      "metadata": {
        "id": "CZL1NKybEKgc"
      },
      "source": [
        "%%R\n",
        "# Constants\n",
        "info_cols <- c(\"tax_id\",\"taxonomy\",\"type\",\"kingdom\",\"reference_length\",\"mean\",\"median\",\"max\")\n",
        "#cohort_order <- c(\"Ukraine (TCGA)\", \"USA (TCGA)\", \"Vietnam (TCGA)\", \"Russia (TCGA)\", \"Iran (Mutographs)\", \"China (Mutographs)\", \"Kenya (Mutographs)\", \"Tanzania (Mutographs)\", \"Tanzania\", \"Tanzania (RNA)\", \"Malawi (RNA)\")\n",
        "\n",
        "\n",
        "\n",
        "cohort_color_code <- c(\n",
        "  \"Other Taxa\" = \"#ebebeb\",\n",
        "  \"Selenomonas\" = \"#7A0E29\",\n",
        "  \"Prevotella\" = \"#BB4430\",\n",
        "  \"Campylobacter\" = \"#0077b6\",\n",
        "  \"Porphyromonas\" = \"#7EBDC2\",\n",
        "  \"Streptococcus\" = \"#FDCA40\",\n",
        "  \"Veillonella\" = \"#EE8844\",\n",
        "  \"Fusobacterium\" = \"#7DAA92\"\n",
        ")"
      ],
      "execution_count": 52,
      "outputs": []
    },
    {
      "cell_type": "code",
      "metadata": {
        "colab": {
          "base_uri": "https://localhost:8080/"
        },
        "id": "5sskHa4OEOT6",
        "outputId": "1bd937e6-815a-431f-af83-e0e37e6a9eec"
      },
      "source": [
        "%%R\n",
        "# Import MUHAS Tz\n",
        "rna <- read_tsv(\"data/tanz_RNAseq_score.txt\")\n",
        "wgs <- read_tsv(\"data/tanz_WGS_score.txt\")\n",
        "metadata <- read_csv(\"data/tanzania-bams-2019-02-19.csv\")\n",
        "\n",
        "# Because mycobacterium reads are actually human reads that are mismapped, remove them all\n",
        "rna <- rna %>%\n",
        "  filter(!grepl(\"Mycobacterium\", taxonomy))\n",
        "wgs <- wgs %>%\n",
        "  filter(!grepl(\"Mycobacterium\", taxonomy))\n",
        "\n",
        "# Format input files\n",
        "colnames(rna) <- str_replace_all(colnames(rna), \".pathseq.tsv\",\"\")\n",
        "colnames(wgs) <- str_replace_all(colnames(wgs), \".pathseq.tsv\",\"\")\n",
        "\n",
        "# Get list of non-sample, non-name columns\n",
        "info_cols <- colnames(rna)[1:9]\n",
        "info_cols <- info_cols[info_cols!='name']\n",
        "\n",
        "# Split wgs to saliva vs tumor\n",
        "\n",
        "# -- Make key to convert ID to type\n",
        "ID_to_type <- hash(metadata$`sample uuid`, metadata$`T/n`)\n",
        "\n",
        "# -- Get list of samples in each category\n",
        "tumor_list <- colnames(wgs)[10:length(wgs)][hash_lookup(ID_to_type, colnames(wgs)[10:length(wgs)]) == \"Tumor\"]\n",
        "saliva_list <- colnames(wgs)[10:length(wgs)][hash_lookup(ID_to_type, colnames(wgs)[10:length(wgs)]) == \"Normal\"]\n",
        "\n",
        "# -- Make a dataframe for each category\n",
        "wgs_tumor <- wgs[c(colnames(wgs)[1:9], tumor_list)]\n",
        "wgs_saliva <- wgs[c(colnames(wgs)[1:9], saliva_list)]\n",
        "\n",
        "# Make key to convert ID to name\n",
        "ID_to_name <- hash(metadata$`sample uuid`, metadata$sample_name)\n",
        "\n",
        "# Convert the column names in rna and wgs dataframes\n",
        "colnames(rna)[10:length(rna)] <- hash_lookup(ID_to_name, colnames(rna)[10:length(rna)])\n",
        "colnames(wgs_tumor)[10:length(wgs_tumor)] <- hash_lookup(ID_to_name, colnames(wgs_tumor)[10:length(wgs_tumor)])\n",
        "colnames(wgs_saliva)[10:length(wgs_saliva)] <- hash_lookup(ID_to_name, colnames(wgs_saliva)[10:length(wgs_saliva)])\n",
        "\n",
        "# Need to remove samples that lack metadata because they failed QC - i.e. are not \n",
        "# the correct cancer type, etc.\n",
        "rna <- rna[colnames(rna)[!is.na(colnames(rna))]]"
      ],
      "execution_count": 53,
      "outputs": [
        {
          "output_type": "stream",
          "text": [
            "\n",
            "── Column specification ────────────────────────────────────────────────────────\n",
            "cols(\n",
            "  .default = col_double(),\n",
            "  taxonomy = col_character(),\n",
            "  type = col_character(),\n",
            "  name = col_character(),\n",
            "  kingdom = col_character()\n",
            ")\n",
            "ℹ Use `spec()` for the full column specifications.\n",
            "\n",
            "\n",
            "── Column specification ────────────────────────────────────────────────────────\n",
            "cols(\n",
            "  .default = col_double(),\n",
            "  taxonomy = col_character(),\n",
            "  type = col_character(),\n",
            "  name = col_character(),\n",
            "  kingdom = col_character()\n",
            ")\n",
            "ℹ Use `spec()` for the full column specifications.\n",
            "\n",
            "\n",
            "── Column specification ────────────────────────────────────────────────────────\n",
            "cols(\n",
            "  sample_name = col_character(),\n",
            "  `sample uuid` = col_character(),\n",
            "  file_size = col_double(),\n",
            "  md5 = col_character(),\n",
            "  read_count = col_double(),\n",
            "  map_percent = col_double(),\n",
            "  genome_cov = col_double(),\n",
            "  template_length = col_double(),\n",
            "  analyte = col_character(),\n",
            "  `T/n` = col_character()\n",
            ")\n",
            "\n"
          ],
          "name": "stdout"
        }
      ]
    },
    {
      "cell_type": "code",
      "metadata": {
        "colab": {
          "base_uri": "https://localhost:8080/"
        },
        "id": "3GDKtlhXETDg",
        "outputId": "b44d923a-4c23-4ea3-e031-bf9bb021db6d"
      },
      "source": [
        "%%R\n",
        "# Import MUHAS Metrics\n",
        "# import the files\n",
        "wgs_metrics <- read_delim(\"data/tanz_wgs.metrics.txt\", delim=\"\\t\")\n",
        "rna_metrics <- read_delim(\"data/tanz_rnaseq.metrics.txt\", delim=\"\\t\")\n",
        "\n",
        "# Split the wgs_metrics to tumor and saliva\n",
        "# Will use the existing tumor_list and saliva_list from above\n",
        "colnames(wgs_metrics) <- str_replace_all(colnames(wgs_metrics), \".pathseq.filter_metrics\", \"\")\n",
        "wgs_metrics_tumor <- wgs_metrics[c(\"X1\", tumor_list)]\n",
        "wgs_metrics_saliva <- wgs_metrics[c(\"X1\", saliva_list)]\n",
        "\n",
        "# Format the metrics\n",
        "wgs_metrics_tumor <- format_metrics(wgs_metrics_tumor, ID_to_name)\n",
        "wgs_metrics_saliva <- format_metrics(wgs_metrics_saliva, ID_to_name)\n",
        "rna_metrics <- format_metrics(rna_metrics, ID_to_name)\n",
        "\n",
        "\n",
        "# For the WGS data, I processed the host-subtracted reads through PathSeq. \n",
        "# This means I need to go back and, for the HOST_READS_FILTERED, add those\n",
        "# counts\n",
        "wgs_initial_counts <- read_delim(\"data/tz_WGS_COUNTS_of_reads_subtracted_before_pathseq.csv\", delim=\",\", col_names=c(\"name\", \"count\"))\n",
        "wgs_initial_counts$name <- str_replace_all(wgs_initial_counts$name, \".bam\", \"\")\n",
        "\n",
        "# Make hash of initial human_counts\n",
        "wgs_initial_counts_map <- hash(wgs_initial_counts$name, wgs_initial_counts$count)\n",
        "\n",
        "# Will add the counts. Because the company may not have given all original BAMs, exlude\n",
        "# those samples that don't have original counts...\n",
        "wgs_metrics_tumor <- wgs_metrics_tumor %>%\n",
        "  mutate(HOST_READS_FILTERED = as.numeric(as.character(HOST_READS_FILTERED))) %>%\n",
        "  filter(name %in% wgs_initial_counts$name) %>%\n",
        "  mutate(HOST_READS_FILTERED = HOST_READS_FILTERED + hash_lookup(wgs_initial_counts_map, name))\n",
        "  \n",
        "wgs_metrics_saliva <- wgs_metrics_saliva %>%\n",
        "  mutate(HOST_READS_FILTERED = as.numeric(as.character(HOST_READS_FILTERED))) %>%\n",
        "  filter(name %in% wgs_initial_counts$name) %>%\n",
        "  mutate(HOST_READS_FILTERED = HOST_READS_FILTERED + hash_lookup(wgs_initial_counts_map, name))\n",
        "\n",
        "# Convert sample names to patient IDs\n",
        "wgs_metrics_tumor$name <- hash_lookup(ID_to_name, wgs_metrics_tumor$name)\n",
        "wgs_metrics_saliva$name <- hash_lookup(ID_to_name, wgs_metrics_saliva$name)\n",
        "rna_metrics$name <- hash_lookup(ID_to_name, rna_metrics$name)\n",
        "\n",
        "\n",
        "# For the RNA metrics, need to remove samples that don't have a name (meaning they're not in the key, probably because they are ruled out samples because they're not ESCC)\n",
        "rna_metrics <- rna_metrics %>%\n",
        "  filter(!is.na(name))\n",
        "\n",
        "\n",
        "# Make hashes for get # human reads\n",
        "tz_wgs_tumor_hu_hashmap <- hash(wgs_metrics_tumor$name, make_factor_numeric(wgs_metrics_tumor$HOST_READS_FILTERED))\n",
        "tz_wgs_saliva_hu_hashmap <- hash(wgs_metrics_saliva$name, make_factor_numeric(wgs_metrics_saliva$HOST_READS_FILTERED))\n",
        "tz_rna_hu_hashmap <- hash(rna_metrics$name, make_factor_numeric(rna_metrics$HOST_READS_FILTERED))"
      ],
      "execution_count": 54,
      "outputs": [
        {
          "output_type": "stream",
          "text": [
            "\n",
            "── Column specification ────────────────────────────────────────────────────────\n",
            "cols(\n",
            "  .default = col_double(),\n",
            "  X1 = col_character()\n",
            ")\n",
            "ℹ Use `spec()` for the full column specifications.\n",
            "\n",
            "\n",
            "── Column specification ────────────────────────────────────────────────────────\n",
            "cols(\n",
            "  .default = col_double(),\n",
            "  X1 = col_character()\n",
            ")\n",
            "ℹ Use `spec()` for the full column specifications.\n",
            "\n",
            "\n",
            "── Column specification ────────────────────────────────────────────────────────\n",
            "cols(\n",
            "  name = col_character(),\n",
            "  count = col_double()\n",
            ")\n",
            "\n"
          ],
          "name": "stdout"
        }
      ]
    },
    {
      "cell_type": "markdown",
      "metadata": {
        "id": "-eHt0VQb-AFK"
      },
      "source": [
        "# Plotting Figures"
      ]
    },
    {
      "cell_type": "markdown",
      "metadata": {
        "id": "0HZGXfHyC9fR"
      },
      "source": [
        "## Bray curtis between tumor and oral"
      ]
    },
    {
      "cell_type": "code",
      "metadata": {
        "colab": {
          "base_uri": "https://localhost:8080/",
          "height": 531
        },
        "id": "bZi-3bY7EfxT",
        "outputId": "7c21141c-6912-476c-87f9-52b44a7473f4"
      },
      "source": [
        "%%R \n",
        "# Select samples that are present in both WGS and Saliva data, and who have sufficient\n",
        "# total # bacterial reads - lets do a cutoff a 10,000\n",
        "#-----------------------------------------------------------------------------------------#\n",
        "\n",
        "# First, will isolate only shared samples\n",
        "wgs_tumor_shared_colnames <- colnames(wgs_tumor)[colnames(wgs_tumor) %in% colnames(wgs_saliva)]\n",
        "shared_sample_list <- wgs_tumor_shared_colnames[10:length(wgs_tumor_shared_colnames)]\n",
        "\n",
        "# Find the samples that have greater than <threshold> # of bacterial reads in both tumor + saliva=\n",
        "get_samples_that_pass_bacterial_superkingdom_threshold <- function(in_tbl, sample_list, threshold){\n",
        "  # Takes in an input tibble, which should have the kingdom and type columns still. Also takes in \n",
        "  # a sample_list, which is a vector that helps the funciton know which columns contain actual sample\n",
        "  # information and not, i.e. mean/taxonomy inforrmation. Threshold is the required number of \n",
        "  # bacterial superkingdom reads. A vector of sample names that meets this threshold is output.\n",
        "  \n",
        "  tmp <- in_tbl %>%\n",
        "    filter(kingdom==\"Bacteria\", type==\"superkingdom\") %>%\n",
        "    select(sample_list) %>%\n",
        "    t() %>%\n",
        "    as.data.frame()\n",
        "  \n",
        "  tmp$sample <- rownames(tmp)\n",
        "  meets_threshold <- as.tibble(tmp) %>%\n",
        "    filter(V1 >threshold) %>%\n",
        "    pull(sample)\n",
        "  \n",
        "  meets_threshold\n",
        "}\n",
        "\n",
        "# Get samples that pass threshold\n",
        "saliva_meets_threshold <- get_samples_that_pass_bacterial_superkingdom_threshold(wgs_saliva, shared_sample_list, 10000)\n",
        "tumor_meets_threshold <- get_samples_that_pass_bacterial_superkingdom_threshold(wgs_tumor, shared_sample_list, 10000)\n",
        "\n",
        "# Get samples that are in both saliva and tumor\n",
        "meet_threshold_and_shared <- intersect(saliva_meets_threshold, tumor_meets_threshold)\n",
        "to_keep <- c(colnames(wgs_saliva)[1:9], meet_threshold_and_shared)\n",
        "\n",
        "# Make new dataframes with just those passing samples\n",
        "saliva_4_bray <- wgs_saliva %>%\n",
        "  select(to_keep)\n",
        "tumor_4_bray <- wgs_tumor %>%\n",
        "  select(to_keep)\n",
        "\n",
        "# Sort for bacterial genera\n",
        "saliva_4_bray <- extract_data(saliva_4_bray, \"Bacteria\", \"genus\", info_cols)\n",
        "tumor_4_bray <- extract_data(tumor_4_bray, \"Bacteria\", \"genus\", info_cols)\n",
        "\n",
        "# Convert to relative abundance\n",
        "saliva_4_bray <- relative_abundance(saliva_4_bray)\n",
        "tumor_4_bray <- relative_abundance(tumor_4_bray)\n",
        "\n",
        "# Make a copy that will remain tibbles\n",
        "saliva_4_bray_tbl <- saliva_4_bray\n",
        "tumor_4_bray_tbl <- tumor_4_bray\n",
        "\n",
        "# Convert to formatted dataframe where the genus names are rownames\n",
        "saliva_4_bray <- name_col_to_rownames(saliva_4_bray)\n",
        "tumor_4_bray <- name_col_to_rownames(tumor_4_bray)\n",
        "\n",
        "# Label the colnames based on their origin\n",
        "colnames(saliva_4_bray) <- paste(colnames(saliva_4_bray), \"_saliva\", sep=\"\")\n",
        "colnames(tumor_4_bray) <- paste(colnames(tumor_4_bray), \"_tumor\", sep=\"\")\n",
        "\n",
        "\n",
        "# Bray curtis between paired samples\n",
        "#-------------------------------------------------------#\n",
        "\n",
        "get_bray_similiarity <- function(vector1, vector2){\n",
        "  \n",
        "  # Join the vectors\n",
        "  joined_vectors <- data.frame(vector1, vector2)\n",
        "  \n",
        "  # Vegdist gives DISSIMILARITY, so need to subtract from 1 to get similarity\n",
        "  1 - vegdist(t(joined_vectors))[1]\n",
        "}\n",
        "\n",
        "# Iterate through each sample and get the paired bray curtis distances\n",
        "bray_paired <- tibble(sample_name = character(), bray_curtis = numeric())\n",
        "colnames(bray_paired) <- c(\"sample_name\", \"bray_curtis\")\n",
        "\n",
        "for (sample_name in meet_threshold_and_shared) {\n",
        "  \n",
        "  # First, extract the vectors\n",
        "  tumor_name <- paste(sample_name, \"_tumor\", sep=\"\")\n",
        "  saliva_name <- paste(sample_name, \"_saliva\", sep=\"\")\n",
        "  \n",
        "  tumor_vector <- tumor_4_bray %>% \n",
        "    select(tumor_name) %>%\n",
        "    pull(tumor_name)\n",
        "  \n",
        "  saliva_vector <- saliva_4_bray %>% \n",
        "    select(saliva_name) %>%\n",
        "    pull(saliva_name)\n",
        "  \n",
        "  bray <- get_bray_similiarity(tumor_vector, saliva_vector)\n",
        "  bray_paired <- add_row(bray_paired, sample_name = sample_name, bray_curtis = bray)\n",
        "}\n",
        "\n",
        "# Bray curtis between random samples\n",
        "#-------------------------------------------------------#\n",
        "\n",
        "# Make recepticle for the bray similarity\n",
        "bray_random <-  NULL\n",
        "\n",
        "# Make list of comparisons that have already been done\n",
        "comparisons_done <- NULL\n",
        "\n",
        "for (sample_name1 in meet_threshold_and_shared) {\n",
        "  for (sample_name2 in meet_threshold_and_shared) {\n",
        "    \n",
        "    # Check if the comparison has already been done\n",
        "    comparison1 = paste(sample_name1, sample_name2, sep=\" \")\n",
        "    comparison2 = paste(sample_name2, sample_name1, sep=\" \")\n",
        "    \n",
        "    if (comparison1 %in% comparisons_done) {\n",
        "      next\n",
        "    }\n",
        "    \n",
        "    if (comparison2 %in% comparisons_done) {\n",
        "      next\n",
        "    }\n",
        "\n",
        "    # First, extract the vectors\n",
        "    tumor_name <- paste(sample_name1, \"_tumor\", sep=\"\")\n",
        "    saliva_name <- paste(sample_name2, \"_saliva\", sep=\"\")\n",
        "    \n",
        "    tumor_vector <- tumor_4_bray %>% \n",
        "      select(tumor_name) %>%\n",
        "      pull(tumor_name)\n",
        "    \n",
        "    saliva_vector <- saliva_4_bray %>% \n",
        "      select(saliva_name) %>%\n",
        "      pull(saliva_name)\n",
        "    \n",
        "    bray <- get_bray_similiarity(tumor_vector, saliva_vector)\n",
        "    bray_random <- append(bray_random, bray)\n",
        "    \n",
        "    # Add to comparision done\n",
        "    comparisons_done <- append(comparisons_done, comparison1)\n",
        "    comparisons_done <- append(comparisons_done, comparison2)\n",
        "\n",
        "  }\n",
        "}\n",
        "\n",
        "bray_random <- as.tibble(bray_random)\n",
        "\n",
        "\n",
        "# Plotting both the sample-paired and randomly-paired bray indexes\n",
        "#-----------------------------------------------------------------------------------------#\n",
        "bray_paired$type = \"Paired by Patient\"\n",
        "bray_random$sample_name = \"NA\"\n",
        "bray_random$type = \"Random Pairs\"\n",
        "colnames(bray_random)[1] <- \"bray_curtis\"\n",
        "\n",
        "bray_paired_and_random_combined <- bind_rows(bray_paired, bray_random)\n",
        "\n",
        "bray_paired_vs_random_jaccard_distances_plot <- ggplot(data=bray_paired_and_random_combined, aes(x=type, y=bray_curtis)) +\n",
        "  geom_boxplot(aes(fill=type)) +\n",
        "  geom_dotplot(binaxis='y', stackdir='center', dotsize=0.4, position = position_dodge(1)) +\n",
        "  theme_classic(base_size = 10) +\n",
        "  ylab(\"Bray Curtis Similarity\") +\n",
        "  theme(axis.title.x=element_blank(),\n",
        "        plot.title = element_text(hjust = 0.5),\n",
        "        legend.position=\"none\") +\n",
        "  coord_fixed(ratio = 3) +\n",
        "  ggtitle(\"Bray Curtis Similarity\\nof Tumor-Saliva Pairs\") +\n",
        "  scale_fill_manual(values=c(\"#CA7D02\", \"#348183\"))\n",
        "\n",
        "# t-test between the two\n",
        "#-----------------------------------------------------------------------------------------#\n",
        "t.test(bray_paired$bray_curtis, bray_random$bray_curtis)\n",
        "\n",
        "wilcox.test(bray_paired$bray_curtis, bray_random$bray_curtis)\n",
        "\n",
        "# Plot\n",
        "bray_paired_vs_random_jaccard_distances_plot\n"
      ],
      "execution_count": 55,
      "outputs": [
        {
          "output_type": "stream",
          "text": [
            "R[write to console]: `stat_bindot()` using `bins = 30`. Pick better value with `binwidth`.\n",
            "\n"
          ],
          "name": "stderr"
        },
        {
          "output_type": "display_data",
          "data": {
            "image/png": "[encoded data removed]"
          },
          "metadata": {
            "tags": []
          }
        }
      ]
    },
    {
      "cell_type": "markdown",
      "metadata": {
        "id": "N_7NTfHZEs_c"
      },
      "source": [
        "## Check correlations between tumor and oral bacterial genera in each pt."
      ]
    },
    {
      "cell_type": "code",
      "metadata": {
        "colab": {
          "base_uri": "https://localhost:8080/",
          "height": 565
        },
        "id": "qONR4bgPEuFT",
        "outputId": "0abe34f8-db21-4bd4-c424-c23ea790d6fa"
      },
      "source": [
        "%%R\n",
        "\n",
        "# Check coorelations between tumor and oral bacterial genera in each pt.\n",
        "genera_set_1 <- c(\"Veillonella\", \"Porphyromonas\", \"Streptococcus\", \"Fusobacterium\")\n",
        "genera_set_2 <- c(\"Selenomonas\", \"Prevotella\", \"Campylobacter\", \"Porphyromonas\", \"Streptococcus\",\"Veillonella\", \"Fusobacterium\")\n",
        "\n",
        "\n",
        "tumor_4_bray$name <- rownames(tumor_4_bray)\n",
        "tumor_4_bray <- as_tibble(tumor_4_bray) %>%\n",
        "  select(name, everything())\n",
        "saliva_4_bray$name <- rownames(saliva_4_bray)\n",
        "saliva_4_bray <- as_tibble(saliva_4_bray) %>%\n",
        "  select(name, everything())\n",
        "\n",
        "# Function to specify a bug, and determine the corr between tumor and saliva abundance\n",
        "find_corr <- function(tbl1, tbl2, name) {\n",
        "  tbl1 <- tumor_4_bray\n",
        "  tbl2 <- saliva_4_bray\n",
        "  specified_name <- \"Campylobacter\"\n",
        "  \n",
        "  vector1 <- tbl1 %>%\n",
        "    filter(name == specified_name) %>%\n",
        "    slice() %>%\n",
        "    unlist(., use.names=F) %>%\n",
        "    tail(length(.)-1) %>%\n",
        "    as.numeric()\n",
        "  \n",
        "  vector2 <- tbl2 %>%\n",
        "    filter(name == specified_name) %>%\n",
        "    slice() %>%\n",
        "    unlist(., use.names=F) %>%\n",
        "    tail(length(.)-1) %>%\n",
        "    as.numeric()\n",
        "  \n",
        "  \n",
        "  test <- cor.test(vector1, vector2)\n",
        "  \n",
        "  test\n",
        "  \n",
        "  # return:\n",
        "  # as.numeric(test$statistic)\n",
        "  # test$p.value\n",
        "  \n",
        "}\n",
        "\n",
        "\n",
        "\n",
        "# Instead, lets find corr between all bugs\n",
        "tumor_4_bray.m <- tumor_4_bray %>%\n",
        "  melt() %>%\n",
        "  filter(name != \"Ileibacterium\")%>%\n",
        "  filter(value > 0.01)\n",
        "tumor_4_bray.m$variable <- str_replace_all(tumor_4_bray.m$variable, \"_tumor\", \"\")\n",
        "\n",
        "saliva_4_bray.m <- saliva_4_bray %>%\n",
        "  melt() %>%\n",
        "  filter(name != \"Ileibacterium\") %>%\n",
        "  filter(value > 0.01)\n",
        "saliva_4_bray.m$variable <- str_replace_all(saliva_4_bray.m$variable, \"_saliva\", \"\")\n",
        "\n",
        "\n",
        "genus_list <- saliva_4_bray.m$name[saliva_4_bray.m$name %in% tumor_4_bray.m$name] %>% unique()\n",
        "\n",
        "\n",
        "out_tibble <- tibble(name = c(\"\"), corr = as.numeric(c(\"\")), p =  as.numeric(c(\"\")))\n",
        "for (genus in genus_list) {\n",
        "  \n",
        "  \n",
        "  # First determine shared list of samples where the specified genus is present\n",
        "  # in both tumor and saliva\n",
        "  saliva_names_with_genus <- saliva_4_bray.m %>%\n",
        "    filter(name == genus) %>%\n",
        "    pull(variable) %>%\n",
        "    as.character()\n",
        "  \n",
        "  tumor_names_with_genus <- tumor_4_bray.m %>%\n",
        "    filter(name == genus) %>%\n",
        "    pull(variable) %>%\n",
        "    as.character()\n",
        "  \n",
        "  sample_genus_in_both <- saliva_names_with_genus[saliva_names_with_genus %in% tumor_names_with_genus]\n",
        "  \n",
        "  tumor_vector <- tumor_4_bray.m %>%\n",
        "    filter(variable %in% sample_genus_in_both,\n",
        "           name == get(\"genus\")) %>%\n",
        "    pull(value)\n",
        "  \n",
        "  saliva_vector <- saliva_4_bray.m %>%\n",
        "    filter(variable %in% sample_genus_in_both,\n",
        "           name == get(\"genus\")) %>%\n",
        "    pull(value) \n",
        "  \n",
        "  if (length(unique(tumor_vector)) < 3) {\n",
        "    correlation = NA\n",
        "    p = NA\n",
        "  } else if (length(unique(saliva_vector)) < 3 ) {\n",
        "    correlation = NA\n",
        "    p = NA\n",
        "  } else {\n",
        "    t <- cor.test(tumor_vector, saliva_vector)\n",
        "    correlation <- as.numeric(t$estimate, method=\"pearson\")\n",
        "    p <- t$p.value\n",
        "  }\n",
        "  \n",
        "  out_tibble <- out_tibble %>%\n",
        "    add_row(name = get(\"genus\"),\n",
        "            corr = correlation,\n",
        "            p = p)\n",
        "}\n",
        "\n",
        "\n",
        "\n",
        "# Label generas that are significantly correlated\n",
        "out_tibble <- out_tibble %>%\n",
        "  mutate(Genus = ifelse(\n",
        "    name %in% genera_set_2,\n",
        "    name,\n",
        "    \"Other Genera\"\n",
        "  )) ############### instead, need to label generas that are also present in the next paired stacked barplots ##############################################################################################################################\n",
        "\n",
        "# Order the generas\n",
        "out_tibble$Genus <- factor(out_tibble$Genus, ordered=T, levels=c(genera_set_2, \"Other Genera\"))\n",
        "\n",
        "tumor_saliva_corr_plt <- out_tibble %>% filter(corr != \"NA\") %>%\n",
        "  ggplot() +\n",
        "  geom_point(\n",
        "    aes(\n",
        "      x = corr,\n",
        "      y = p,\n",
        "      color=Genus\n",
        "    ),\n",
        "    size=3\n",
        "  ) +\n",
        "  theme_classic(base_size=10) +\n",
        "  scale_y_continuous(trans = trans_reverser('log10'), labels=comma) + # Other option is trans=\"reverse\"...\n",
        "  scale_color_manual(values=c(\"#BB4430\", \"#0077b6\", \"#7EBDC2\", \"#FDCA40\", \"#EE8844\", \"#7DAA92\", \"#000000\")) +\n",
        "  ylab(\"Correlation P-Value\") +\n",
        "  xlab(\"Correlation Between Genus Relative Abundance\\nIn Tumor And Saliva\") +\n",
        "  geom_hline(yintercept = 0.05, linetype=\"dashed\") +\n",
        "  geom_vline(xintercept=c(-.7, .7), linetype=\"dashed\") +\n",
        "  ggtitle(\"Tumor-Saliva Correlations of Common\\nAbundant Bacterial Genera\") +\n",
        "  theme(plot.title = element_text(hjust = 0.5))\n",
        "tumor_saliva_corr_plt"
      ],
      "execution_count": 56,
      "outputs": [
        {
          "output_type": "stream",
          "text": [
            "R[write to console]: Using name as id variables\n",
            "\n",
            "R[write to console]: Using name as id variables\n",
            "\n"
          ],
          "name": "stderr"
        },
        {
          "output_type": "display_data",
          "data": {
            "image/png": "[encoded data removed]"
          },
          "metadata": {
            "tags": []
          }
        }
      ]
    },
    {
      "cell_type": "markdown",
      "metadata": {
        "id": "kjreuvZoIpgi"
      },
      "source": [
        "## Plotting paired microbiomes"
      ]
    },
    {
      "cell_type": "code",
      "metadata": {
        "colab": {
          "base_uri": "https://localhost:8080/",
          "height": 548
        },
        "id": "Z8fOzSWCGkyt",
        "outputId": "4af3bb4a-f26e-42b5-d054-113f1ff10a1a"
      },
      "source": [
        "%%R\n",
        "# MERGING\n",
        "tumor_saliva_merged <- tumor_4_bray %>%\n",
        "  full_join(saliva_4_bray)\n",
        "\n",
        "# Extract\n",
        "tumor_saliva_merged_extracted <- tumor_saliva_merged %>%\n",
        "  isolate_taxa(genera_set_2)\n",
        "\n",
        "# Melt and label\n",
        "tumor_saliva_merged_extracted.m <- tumor_saliva_merged_extracted %>%\n",
        "  melt() %>%\n",
        "  mutate(tissue = ifelse(grepl(\"tumor\", variable), \"T\", \"S\")) %>%\n",
        "  mutate(variable = str_replace_all(variable, \"_tumor\", \"\")) %>%\n",
        "  mutate(variable = str_replace_all(variable, \"_saliva\", \"\"))\n",
        "\n",
        "\n",
        "# Make factors to specify order\n",
        "tumor_saliva_merged_extracted.m$tissue <- factor(tumor_saliva_merged_extracted.m$tissue, ordered=T, levels=c(\"T\", \"S\"))\n",
        "\n",
        "tumor_saliva_merged_extracted.m$name <- factor(tumor_saliva_merged_extracted.m$name, ordered=T, levels=c(\"Other Taxa\", genera_set_2))\n",
        "\n",
        "# Order samples by total percentage abundance of cohort in the tumor\n",
        "sample_order <- tumor_saliva_merged_extracted.m %>%\n",
        "  filter(name == \"Other Taxa\", tissue==\"T\") %>%\n",
        "  arrange(value) %>% pull(variable)\n",
        "tumor_saliva_merged_extracted.m$variable <- factor(tumor_saliva_merged_extracted.m$variable, ordered=T, levels=sample_order)\n",
        "\n",
        "paired_bacterial_abundance_plt <- tumor_saliva_merged_extracted.m %>%\n",
        "  ggplot() +\n",
        "  geom_col(\n",
        "    aes(\n",
        "      x = tissue,\n",
        "      y = value,\n",
        "      fill = name\n",
        "    )\n",
        "  ) +\n",
        "  facet_wrap(~variable, scales=\"free_x\") +\n",
        "  theme_classic(base_size = 10) +\n",
        "  scale_fill_manual(values = cohort_color_code) + #grey color on the left\n",
        "  theme(strip.background = element_blank(),\n",
        "        strip.text.x = element_blank(),\n",
        "        axis.title.x = element_blank()) +\n",
        "  scale_y_continuous(breaks=c(0, 0.5, 1)) +\n",
        "  ylab(\"Relative Abundance of Bacterial Genera Reads\") +\n",
        "  labs(fill = \"Genus\") +\n",
        "  ggtitle(\"Genera Relative Abundance of\\nTumor-Saliva Pairs\")\n",
        "paired_bacterial_abundance_plt"
      ],
      "execution_count": 58,
      "outputs": [
        {
          "output_type": "stream",
          "text": [
            "Joining, by = \"name\"\n"
          ],
          "name": "stdout"
        },
        {
          "output_type": "stream",
          "text": [
            "R[write to console]: Using name as id variables\n",
            "\n"
          ],
          "name": "stderr"
        },
        {
          "output_type": "display_data",
          "data": {
            "image/png": "[encoded data removed]"
          },
          "metadata": {
            "tags": []
          }
        }
      ]
    },
    {
      "cell_type": "markdown",
      "metadata": {
        "id": "KmpYTvgCIxNx"
      },
      "source": [
        "## Tumor vs saliva enrichment for the common-abundant genera"
      ]
    },
    {
      "cell_type": "code",
      "metadata": {
        "colab": {
          "base_uri": "https://localhost:8080/",
          "height": 616
        },
        "id": "XEYVdH6ZGlpj",
        "outputId": "f251070e-3ae7-4ebb-a44b-dbe5de893aa6"
      },
      "source": [
        "%%R\n",
        "tumor_4_bray.m <- tumor_4_bray %>%\n",
        "  melt() %>%\n",
        "  mutate(variable = str_replace_all(variable, \"_tumor\", \"\")) %>%\n",
        "  select(everything(), tumor=value)\n",
        "\n",
        "saliva_4_bray.m <- saliva_4_bray %>%\n",
        "  melt() %>%\n",
        "  mutate(variable = str_replace_all(variable, \"_saliva\", \"\")) %>%\n",
        "  select(everything(), saliva=value)\n",
        "\n",
        "tumor_by_saliva_comparison <- \n",
        "  tumor_4_bray.m %>%\n",
        "  full_join(saliva_4_bray.m)\n",
        "\n",
        "tumor_by_saliva_comparison <- tumor_by_saliva_comparison %>%\n",
        "  mutate(delta = tumor-saliva) %>%\n",
        "  group_by(name) %>%\n",
        "  mutate(avg_delta = mean(delta),\n",
        "         median_delta = median(delta))\n",
        "\n",
        "\n",
        "# # Take only names w/ average delta > 0.1 (absolute)\n",
        "# tumor_by_saliva_comparison_extreme_list <- tumor_by_saliva_comparison %>%\n",
        "#   select(name, median_delta, avg_delta) %>%\n",
        "#   unique() %>%\n",
        "#   filter(abs(avg_delta) > 0.01) %>%\n",
        "#   pull(name)\n",
        "# tumor_by_saliva_comparison_extremes <- tumor_by_saliva_comparison %>%\n",
        "#   filter(name %in% tumor_by_saliva_comparison_extreme_list)\n",
        "\n",
        "######################### ONLY COMMON ABUNDANT\n",
        "common_abundant_genera <- out_tibble %>% \n",
        "  filter(!is.na(corr)) %>% \n",
        "  pull(name)\n",
        "\n",
        "tumor_by_saliva_comparison_extremes <- tumor_by_saliva_comparison %>%\n",
        "  filter(name %in% common_abundant_genera)\n",
        "######################### ONLY COMMON ABUNDANT\n",
        "\n",
        "# Make column for coloring\n",
        "tumor_by_saliva_comparison_extremes <- tumor_by_saliva_comparison_extremes %>%\n",
        "  mutate(Genus = ifelse(name %in% genera_set_2, name, \"Other Taxa\"))\n",
        "tumor_by_saliva_comparison_extremes$Genus <- factor(tumor_by_saliva_comparison_extremes$Genus, ordered=T, levels=c(\"Other Taxa\", genera_set_2))\n",
        "\n",
        "\n",
        "# Determine naming order\n",
        "tumor_by_saliva_comparison_extremes_order <- tumor_by_saliva_comparison_extremes %>%\n",
        "  select(name, avg_delta) %>%\n",
        "  unique() %>%\n",
        "  arrange(-avg_delta) %>%\n",
        "  pull(name)\n",
        "tumor_by_saliva_comparison_extremes$name = factor(tumor_by_saliva_comparison_extremes$name, ordered=T, levels=rev(tumor_by_saliva_comparison_extremes_order))\n",
        "\n",
        "\n",
        "tumor_by_saliva_comparison_extremes_ridge_plt <- tumor_by_saliva_comparison_extremes %>%\n",
        "  ggplot() +\n",
        "  geom_density_ridges(aes(x=delta, y=name, fill=Genus),\n",
        "                      scale=0.7,\n",
        "                      jittered_points = TRUE, quantile_lines = TRUE, alpha = 0.7,\n",
        "    vline_size = 1, vline_color = \"red\",\n",
        "    point_size = 0.4, point_alpha = 1,\n",
        "    position = position_raincloud(adjust_vlines = TRUE)) +\n",
        "  theme_minimal() +\n",
        "  #coord_cartesian(xlim=c(-.4, .4)) +\n",
        "  geom_vline(xintercept = 0) +\n",
        "  ylab(\"Genus\") +\n",
        "  xlab(\"Difference in Relative Abundance\\n(Tumor-Saliva)\") +\n",
        "  # geom_point(aes(y=name, x=avg_delta, fill=Genus),\n",
        "  #            shape=25,\n",
        "  #            position = position_nudge(y=0.5),\n",
        "  #            size=3,\n",
        "  #            alpha=0.2) +\n",
        "  scale_fill_manual(values = cohort_color_code) + #grey color on the left\n",
        "  ggtitle(\"Enrichment of Common-\\nAbundant Bacterial Genera\") +\n",
        "  scale_x_continuous(expand = c(0,0))\n",
        "\n",
        "# Adding labels\n",
        "tumor_by_saliva_comparison_extremes_ridge_plt <- tumor_by_saliva_comparison_extremes_ridge_plt +\n",
        "  geom_label(\n",
        "    aes(label = \"Enriched in\\nthe tumor\", x=0.3, y=17),\n",
        "    label.size=0,\n",
        "    fill = alpha(c(\"white\"),0.1),\n",
        "    size=2\n",
        "  ) +\n",
        "  coord_cartesian(ylim=c(NA, 17.1)) +\n",
        "  geom_segment(\n",
        "    aes(x=0.1, xend=0.5, y=16.5, yend=16.5),\n",
        "    arrow = arrow(length = unit(0.2, \"cm\"))\n",
        "  ) +\n",
        "  geom_label(\n",
        "    aes(label = \"Enriched in\\nthe saliva\", x=-0.2, y=17),\n",
        "    label.size=0,\n",
        "    fill = alpha(c(\"white\"),0.1),\n",
        "    size=2\n",
        "  ) +\n",
        "  geom_segment(\n",
        "    aes(x=-0.1, xend=-0.3, y=16.5, yend=16.5),\n",
        "    arrow = arrow(length = unit(0.2, \"cm\"))\n",
        "  )\n",
        "\n",
        "tumor_by_saliva_comparison_extremes_ridge_plt"
      ],
      "execution_count": 63,
      "outputs": [
        {
          "output_type": "stream",
          "text": [
            "R[write to console]: Using name as id variables\n",
            "\n",
            "R[write to console]: Using name as id variables\n",
            "\n"
          ],
          "name": "stderr"
        },
        {
          "output_type": "stream",
          "text": [
            "Joining, by = c(\"name\", \"variable\")\n"
          ],
          "name": "stdout"
        },
        {
          "output_type": "stream",
          "text": [
            "R[write to console]: Picking joint bandwidth of 0.0203\n",
            "\n"
          ],
          "name": "stderr"
        },
        {
          "output_type": "display_data",
          "data": {
            "image/png": "[encoded data removed]"
          },
          "metadata": {
            "tags": []
          }
        }
      ]
    },
    {
      "cell_type": "markdown",
      "metadata": {
        "id": "alth25BqJJtR"
      },
      "source": [
        "## Assemble\n",
        "Note: Assembled plot doesn't render well on google collab"
      ]
    },
    {
      "cell_type": "code",
      "metadata": {
        "id": "piCGVa1JJN6Z"
      },
      "source": [
        "left <- bray_paired_vs_random_jaccard_distances_plot / tumor_saliva_corr_plt + theme(legend.position=\"None\")\n",
        "middle <- tumor_by_saliva_comparison_extremes_ridge_plt + theme(legend.position=\"None\")\n",
        "assembled <- (left | middle | paired_bacterial_abundance_plt) + plot_annotation(tag_levels=\"A\", title=\"Figure 3\")"
      ],
      "execution_count": null,
      "outputs": []
    }
  ]
}